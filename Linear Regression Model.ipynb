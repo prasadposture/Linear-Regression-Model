{
 "cells": [
  {
   "cell_type": "markdown",
   "id": "3a32ec0b",
   "metadata": {
    "papermill": {
     "duration": 0.008642,
     "end_time": "2022-08-07T14:24:44.694193",
     "exception": false,
     "start_time": "2022-08-07T14:24:44.685551",
     "status": "completed"
    },
    "tags": []
   },
   "source": [
    "### Prasad Rajesh Posture  \n",
    "**Batch**: June 2022  \n",
    "Data Analytics with Python  "
   ]
  },
  {
   "cell_type": "markdown",
   "id": "b88e6e02",
   "metadata": {
    "papermill": {
     "duration": 0.007191,
     "end_time": "2022-08-07T14:24:44.708926",
     "exception": false,
     "start_time": "2022-08-07T14:24:44.701735",
     "status": "completed"
    },
    "tags": []
   },
   "source": [
    "**Task :** Create a linear regression model for predicting the weight of the brain based on the size of the head."
   ]
  },
  {
   "cell_type": "markdown",
   "id": "19cb169c",
   "metadata": {
    "papermill": {
     "duration": 0.007275,
     "end_time": "2022-08-07T14:24:44.723638",
     "exception": false,
     "start_time": "2022-08-07T14:24:44.716363",
     "status": "completed"
    },
    "tags": []
   },
   "source": [
    "### `import` packages"
   ]
  },
  {
   "cell_type": "code",
   "execution_count": 1,
   "id": "7240ee6b",
   "metadata": {
    "execution": {
     "iopub.execute_input": "2022-08-07T14:24:44.741207Z",
     "iopub.status.busy": "2022-08-07T14:24:44.740342Z",
     "iopub.status.idle": "2022-08-07T14:24:44.752241Z",
     "shell.execute_reply": "2022-08-07T14:24:44.751015Z"
    },
    "papermill": {
     "duration": 0.024007,
     "end_time": "2022-08-07T14:24:44.755134",
     "exception": false,
     "start_time": "2022-08-07T14:24:44.731127",
     "status": "completed"
    },
    "tags": []
   },
   "outputs": [],
   "source": [
    "import warnings\n",
    "warnings.filterwarnings(\"ignore\")\n",
    "# To ignore warnings that arise while executing the library methods"
   ]
  },
  {
   "cell_type": "code",
   "execution_count": 2,
   "id": "31c83e51",
   "metadata": {
    "execution": {
     "iopub.execute_input": "2022-08-07T14:24:44.771971Z",
     "iopub.status.busy": "2022-08-07T14:24:44.771538Z",
     "iopub.status.idle": "2022-08-07T14:24:45.878092Z",
     "shell.execute_reply": "2022-08-07T14:24:45.876994Z"
    },
    "papermill": {
     "duration": 1.118073,
     "end_time": "2022-08-07T14:24:45.880858",
     "exception": false,
     "start_time": "2022-08-07T14:24:44.762785",
     "status": "completed"
    },
    "tags": []
   },
   "outputs": [],
   "source": [
    "import pandas as pd\n",
    "import numpy as np\n",
    "import seaborn as sns\n",
    "from matplotlib import pyplot as plt"
   ]
  },
  {
   "cell_type": "markdown",
   "id": "8cf8a59d",
   "metadata": {
    "papermill": {
     "duration": 0.007287,
     "end_time": "2022-08-07T14:24:45.895859",
     "exception": false,
     "start_time": "2022-08-07T14:24:45.888572",
     "status": "completed"
    },
    "tags": []
   },
   "source": [
    "### Data exploration"
   ]
  },
  {
   "cell_type": "markdown",
   "id": "514064d5",
   "metadata": {
    "papermill": {
     "duration": 0.00717,
     "end_time": "2022-08-07T14:24:45.910486",
     "exception": false,
     "start_time": "2022-08-07T14:24:45.903316",
     "status": "completed"
    },
    "tags": []
   },
   "source": [
    "Datasource : https://www.kaggle.com/datasets/jemishdonda/headbrain"
   ]
  },
  {
   "cell_type": "code",
   "execution_count": 3,
   "id": "e5966ccd",
   "metadata": {
    "execution": {
     "iopub.execute_input": "2022-08-07T14:24:45.927464Z",
     "iopub.status.busy": "2022-08-07T14:24:45.926744Z",
     "iopub.status.idle": "2022-08-07T14:24:45.931381Z",
     "shell.execute_reply": "2022-08-07T14:24:45.930494Z"
    },
    "papermill": {
     "duration": 0.015629,
     "end_time": "2022-08-07T14:24:45.933458",
     "exception": false,
     "start_time": "2022-08-07T14:24:45.917829",
     "status": "completed"
    },
    "tags": []
   },
   "outputs": [],
   "source": [
    "data_source = '../input/headbrain/headbrain.csv'"
   ]
  },
  {
   "cell_type": "code",
   "execution_count": 4,
   "id": "1afc1a9a",
   "metadata": {
    "execution": {
     "iopub.execute_input": "2022-08-07T14:24:45.951136Z",
     "iopub.status.busy": "2022-08-07T14:24:45.949933Z",
     "iopub.status.idle": "2022-08-07T14:24:45.975280Z",
     "shell.execute_reply": "2022-08-07T14:24:45.973898Z"
    },
    "papermill": {
     "duration": 0.037183,
     "end_time": "2022-08-07T14:24:45.978216",
     "exception": false,
     "start_time": "2022-08-07T14:24:45.941033",
     "status": "completed"
    },
    "tags": []
   },
   "outputs": [],
   "source": [
    "# read data\n",
    "df = pd.read_csv(data_source)\n",
    "df=df.drop(['Gender','Age Range'],axis=1)"
   ]
  },
  {
   "cell_type": "code",
   "execution_count": 5,
   "id": "d14bdd2f",
   "metadata": {
    "execution": {
     "iopub.execute_input": "2022-08-07T14:24:45.996609Z",
     "iopub.status.busy": "2022-08-07T14:24:45.996219Z",
     "iopub.status.idle": "2022-08-07T14:24:46.004437Z",
     "shell.execute_reply": "2022-08-07T14:24:46.003540Z"
    },
    "papermill": {
     "duration": 0.020216,
     "end_time": "2022-08-07T14:24:46.007109",
     "exception": false,
     "start_time": "2022-08-07T14:24:45.986893",
     "status": "completed"
    },
    "tags": []
   },
   "outputs": [
    {
     "data": {
      "text/plain": [
       "(237, 2)"
      ]
     },
     "execution_count": 5,
     "metadata": {},
     "output_type": "execute_result"
    }
   ],
   "source": [
    "# shape\n",
    "df.shape"
   ]
  },
  {
   "cell_type": "code",
   "execution_count": 6,
   "id": "b9972e3d",
   "metadata": {
    "execution": {
     "iopub.execute_input": "2022-08-07T14:24:46.025289Z",
     "iopub.status.busy": "2022-08-07T14:24:46.024575Z",
     "iopub.status.idle": "2022-08-07T14:24:46.037447Z",
     "shell.execute_reply": "2022-08-07T14:24:46.036238Z"
    },
    "papermill": {
     "duration": 0.024897,
     "end_time": "2022-08-07T14:24:46.040114",
     "exception": false,
     "start_time": "2022-08-07T14:24:46.015217",
     "status": "completed"
    },
    "tags": []
   },
   "outputs": [
    {
     "data": {
      "text/html": [
       "<div>\n",
       "<style scoped>\n",
       "    .dataframe tbody tr th:only-of-type {\n",
       "        vertical-align: middle;\n",
       "    }\n",
       "\n",
       "    .dataframe tbody tr th {\n",
       "        vertical-align: top;\n",
       "    }\n",
       "\n",
       "    .dataframe thead th {\n",
       "        text-align: right;\n",
       "    }\n",
       "</style>\n",
       "<table border=\"1\" class=\"dataframe\">\n",
       "  <thead>\n",
       "    <tr style=\"text-align: right;\">\n",
       "      <th></th>\n",
       "      <th>Head Size(cm^3)</th>\n",
       "      <th>Brain Weight(grams)</th>\n",
       "    </tr>\n",
       "  </thead>\n",
       "  <tbody>\n",
       "    <tr>\n",
       "      <th>0</th>\n",
       "      <td>4512</td>\n",
       "      <td>1530</td>\n",
       "    </tr>\n",
       "    <tr>\n",
       "      <th>1</th>\n",
       "      <td>3738</td>\n",
       "      <td>1297</td>\n",
       "    </tr>\n",
       "    <tr>\n",
       "      <th>2</th>\n",
       "      <td>4261</td>\n",
       "      <td>1335</td>\n",
       "    </tr>\n",
       "    <tr>\n",
       "      <th>3</th>\n",
       "      <td>3777</td>\n",
       "      <td>1282</td>\n",
       "    </tr>\n",
       "    <tr>\n",
       "      <th>4</th>\n",
       "      <td>4177</td>\n",
       "      <td>1590</td>\n",
       "    </tr>\n",
       "  </tbody>\n",
       "</table>\n",
       "</div>"
      ],
      "text/plain": [
       "   Head Size(cm^3)  Brain Weight(grams)\n",
       "0             4512                 1530\n",
       "1             3738                 1297\n",
       "2             4261                 1335\n",
       "3             3777                 1282\n",
       "4             4177                 1590"
      ]
     },
     "execution_count": 6,
     "metadata": {},
     "output_type": "execute_result"
    }
   ],
   "source": [
    "# head\n",
    "df.head()"
   ]
  },
  {
   "cell_type": "code",
   "execution_count": 7,
   "id": "313d8a8c",
   "metadata": {
    "execution": {
     "iopub.execute_input": "2022-08-07T14:24:46.058644Z",
     "iopub.status.busy": "2022-08-07T14:24:46.057593Z",
     "iopub.status.idle": "2022-08-07T14:24:46.065790Z",
     "shell.execute_reply": "2022-08-07T14:24:46.064834Z"
    },
    "papermill": {
     "duration": 0.020326,
     "end_time": "2022-08-07T14:24:46.068536",
     "exception": false,
     "start_time": "2022-08-07T14:24:46.048210",
     "status": "completed"
    },
    "tags": []
   },
   "outputs": [],
   "source": [
    "# Create Y and x (array)\n",
    "Y = np.array(df['Brain Weight(grams)'].to_list())\n",
    "x = np.array(df['Head Size(cm^3)'].to_list())"
   ]
  },
  {
   "cell_type": "markdown",
   "id": "19cc0b46",
   "metadata": {
    "papermill": {
     "duration": 0.00796,
     "end_time": "2022-08-07T14:24:46.084848",
     "exception": false,
     "start_time": "2022-08-07T14:24:46.076888",
     "status": "completed"
    },
    "tags": []
   },
   "source": [
    "### Relation between x and Y:"
   ]
  },
  {
   "cell_type": "code",
   "execution_count": 8,
   "id": "742ef0d3",
   "metadata": {
    "execution": {
     "iopub.execute_input": "2022-08-07T14:24:46.104246Z",
     "iopub.status.busy": "2022-08-07T14:24:46.103391Z",
     "iopub.status.idle": "2022-08-07T14:24:46.110866Z",
     "shell.execute_reply": "2022-08-07T14:24:46.109947Z"
    },
    "papermill": {
     "duration": 0.019859,
     "end_time": "2022-08-07T14:24:46.113315",
     "exception": false,
     "start_time": "2022-08-07T14:24:46.093456",
     "status": "completed"
    },
    "tags": []
   },
   "outputs": [],
   "source": [
    "# correlation\n",
    "hb_corr = df.corr()"
   ]
  },
  {
   "cell_type": "code",
   "execution_count": 9,
   "id": "f7206a76",
   "metadata": {
    "execution": {
     "iopub.execute_input": "2022-08-07T14:24:46.132004Z",
     "iopub.status.busy": "2022-08-07T14:24:46.131206Z",
     "iopub.status.idle": "2022-08-07T14:24:46.142388Z",
     "shell.execute_reply": "2022-08-07T14:24:46.141240Z"
    },
    "papermill": {
     "duration": 0.023253,
     "end_time": "2022-08-07T14:24:46.144688",
     "exception": false,
     "start_time": "2022-08-07T14:24:46.121435",
     "status": "completed"
    },
    "tags": []
   },
   "outputs": [
    {
     "data": {
      "text/html": [
       "<div>\n",
       "<style scoped>\n",
       "    .dataframe tbody tr th:only-of-type {\n",
       "        vertical-align: middle;\n",
       "    }\n",
       "\n",
       "    .dataframe tbody tr th {\n",
       "        vertical-align: top;\n",
       "    }\n",
       "\n",
       "    .dataframe thead th {\n",
       "        text-align: right;\n",
       "    }\n",
       "</style>\n",
       "<table border=\"1\" class=\"dataframe\">\n",
       "  <thead>\n",
       "    <tr style=\"text-align: right;\">\n",
       "      <th></th>\n",
       "      <th>Head Size(cm^3)</th>\n",
       "      <th>Brain Weight(grams)</th>\n",
       "    </tr>\n",
       "  </thead>\n",
       "  <tbody>\n",
       "    <tr>\n",
       "      <th>Head Size(cm^3)</th>\n",
       "      <td>1.00000</td>\n",
       "      <td>0.79957</td>\n",
       "    </tr>\n",
       "    <tr>\n",
       "      <th>Brain Weight(grams)</th>\n",
       "      <td>0.79957</td>\n",
       "      <td>1.00000</td>\n",
       "    </tr>\n",
       "  </tbody>\n",
       "</table>\n",
       "</div>"
      ],
      "text/plain": [
       "                     Head Size(cm^3)  Brain Weight(grams)\n",
       "Head Size(cm^3)              1.00000              0.79957\n",
       "Brain Weight(grams)          0.79957              1.00000"
      ]
     },
     "execution_count": 9,
     "metadata": {},
     "output_type": "execute_result"
    }
   ],
   "source": [
    "hb_corr"
   ]
  },
  {
   "cell_type": "code",
   "execution_count": 10,
   "id": "ad22a6a4",
   "metadata": {
    "execution": {
     "iopub.execute_input": "2022-08-07T14:24:46.163615Z",
     "iopub.status.busy": "2022-08-07T14:24:46.162577Z",
     "iopub.status.idle": "2022-08-07T14:24:46.423161Z",
     "shell.execute_reply": "2022-08-07T14:24:46.421874Z"
    },
    "papermill": {
     "duration": 0.272605,
     "end_time": "2022-08-07T14:24:46.425622",
     "exception": false,
     "start_time": "2022-08-07T14:24:46.153017",
     "status": "completed"
    },
    "tags": []
   },
   "outputs": [
    {
     "data": {
      "text/plain": [
       "<AxesSubplot:>"
      ]
     },
     "execution_count": 10,
     "metadata": {},
     "output_type": "execute_result"
    },
    {
     "data": {
      "image/png": "[encoded data removed]",
      "text/plain": [
       "<Figure size 432x288 with 2 Axes>"
      ]
     },
     "metadata": {
      "needs_background": "light"
     },
     "output_type": "display_data"
    }
   ],
   "source": [
    "sns.heatmap(hb_corr)"
   ]
  },
  {
   "cell_type": "code",
   "execution_count": 11,
   "id": "fc130201",
   "metadata": {
    "execution": {
     "iopub.execute_input": "2022-08-07T14:24:46.445336Z",
     "iopub.status.busy": "2022-08-07T14:24:46.444908Z",
     "iopub.status.idle": "2022-08-07T14:24:46.662268Z",
     "shell.execute_reply": "2022-08-07T14:24:46.661067Z"
    },
    "papermill": {
     "duration": 0.230522,
     "end_time": "2022-08-07T14:24:46.665177",
     "exception": false,
     "start_time": "2022-08-07T14:24:46.434655",
     "status": "completed"
    },
    "tags": []
   },
   "outputs": [
    {
     "data": {
      "image/png": "[encoded data removed]",
      "text/plain": [
       "<Figure size 720x432 with 1 Axes>"
      ]
     },
     "metadata": {
      "needs_background": "light"
     },
     "output_type": "display_data"
    }
   ],
   "source": [
    "# scatter plot (10, 6)\n",
    "plt.figure(figsize=(10, 6))\n",
    "plt.scatter(x, Y)\n",
    "plt.show()"
   ]
  },
  {
   "cell_type": "markdown",
   "id": "4a3bc7e1",
   "metadata": {
    "papermill": {
     "duration": 0.009005,
     "end_time": "2022-08-07T14:24:46.684736",
     "exception": false,
     "start_time": "2022-08-07T14:24:46.675731",
     "status": "completed"
    },
    "tags": []
   },
   "source": [
    "There are outliers in our data."
   ]
  },
  {
   "cell_type": "markdown",
   "id": "66cf8d86",
   "metadata": {
    "papermill": {
     "duration": 0.008888,
     "end_time": "2022-08-07T14:24:46.702835",
     "exception": false,
     "start_time": "2022-08-07T14:24:46.693947",
     "status": "completed"
    },
    "tags": []
   },
   "source": [
    "### Outlier detection function"
   ]
  },
  {
   "cell_type": "code",
   "execution_count": 12,
   "id": "591796c0",
   "metadata": {
    "execution": {
     "iopub.execute_input": "2022-08-07T14:24:46.723492Z",
     "iopub.status.busy": "2022-08-07T14:24:46.723092Z",
     "iopub.status.idle": "2022-08-07T14:24:46.729526Z",
     "shell.execute_reply": "2022-08-07T14:24:46.728166Z"
    },
    "papermill": {
     "duration": 0.019773,
     "end_time": "2022-08-07T14:24:46.731924",
     "exception": false,
     "start_time": "2022-08-07T14:24:46.712151",
     "status": "completed"
    },
    "tags": []
   },
   "outputs": [],
   "source": [
    "# whatever value is > 3 and < -3 is an outlier\n",
    "\n",
    "def calculate_zscore(data_values):\n",
    "    # mean\n",
    "    mean_vals = np.mean(data_values)\n",
    "    # standard deviation\n",
    "    std_dev = np.std(data_values)\n",
    "    # applying the formula for all the values\n",
    "    zscore = np.array([(i - mean_vals)/std_dev for i in data_values])\n",
    "    return zscore"
   ]
  },
  {
   "cell_type": "code",
   "execution_count": 13,
   "id": "49dd4d44",
   "metadata": {
    "execution": {
     "iopub.execute_input": "2022-08-07T14:24:46.752814Z",
     "iopub.status.busy": "2022-08-07T14:24:46.752355Z",
     "iopub.status.idle": "2022-08-07T14:24:46.758594Z",
     "shell.execute_reply": "2022-08-07T14:24:46.757620Z"
    },
    "papermill": {
     "duration": 0.019225,
     "end_time": "2022-08-07T14:24:46.760663",
     "exception": false,
     "start_time": "2022-08-07T14:24:46.741438",
     "status": "completed"
    },
    "tags": []
   },
   "outputs": [],
   "source": [
    "def get_outlier_vals(data_values):\n",
    "    # z_score values of all the data values\n",
    "    z_scores = calculate_zscore(data_values=data_values)\n",
    "    \n",
    "    # get the index of the outlier\n",
    "    # whose value is > 3\n",
    "    # whose value is < -3\n",
    "    inds = list(np.where(z_scores < -3)[0])\n",
    "    inds.extend(list(np.where(z_scores > 3)[0]))\n",
    "    \n",
    "    outlier_vals = [data_values[i] for i in sorted(inds)]\n",
    "    \n",
    "    return outlier_vals"
   ]
  },
  {
   "cell_type": "code",
   "execution_count": 14,
   "id": "a864b3f5",
   "metadata": {
    "execution": {
     "iopub.execute_input": "2022-08-07T14:24:46.781874Z",
     "iopub.status.busy": "2022-08-07T14:24:46.781167Z",
     "iopub.status.idle": "2022-08-07T14:24:46.789014Z",
     "shell.execute_reply": "2022-08-07T14:24:46.787507Z"
    },
    "papermill": {
     "duration": 0.021569,
     "end_time": "2022-08-07T14:24:46.791790",
     "exception": false,
     "start_time": "2022-08-07T14:24:46.770221",
     "status": "completed"
    },
    "tags": []
   },
   "outputs": [
    {
     "name": "stdout",
     "output_type": "stream",
     "text": [
      "[4747]\n",
      "[]\n"
     ]
    }
   ],
   "source": [
    "out_x = get_outlier_vals(data_values=x)\n",
    "out_Y = get_outlier_vals(data_values=Y)\n",
    "print(out_x)\n",
    "print(out_Y)"
   ]
  },
  {
   "cell_type": "markdown",
   "id": "06de4c6c",
   "metadata": {
    "papermill": {
     "duration": 0.009304,
     "end_time": "2022-08-07T14:24:46.810665",
     "exception": false,
     "start_time": "2022-08-07T14:24:46.801361",
     "status": "completed"
    },
    "tags": []
   },
   "source": [
    "### Seaborn plot with `confidence` level"
   ]
  },
  {
   "cell_type": "code",
   "execution_count": 15,
   "id": "e910139c",
   "metadata": {
    "execution": {
     "iopub.execute_input": "2022-08-07T14:24:46.831718Z",
     "iopub.status.busy": "2022-08-07T14:24:46.831268Z",
     "iopub.status.idle": "2022-08-07T14:24:47.136021Z",
     "shell.execute_reply": "2022-08-07T14:24:47.134790Z"
    },
    "papermill": {
     "duration": 0.318372,
     "end_time": "2022-08-07T14:24:47.138602",
     "exception": false,
     "start_time": "2022-08-07T14:24:46.820230",
     "status": "completed"
    },
    "tags": []
   },
   "outputs": [
    {
     "data": {
      "image/png": "[encoded data removed]",
      "text/plain": [
       "<Figure size 720x432 with 1 Axes>"
      ]
     },
     "metadata": {
      "needs_background": "light"
     },
     "output_type": "display_data"
    }
   ],
   "source": [
    "# confidence level\n",
    "plt.figure(figsize=(10, 6))\n",
    "sns.regplot(x, Y)\n",
    "plt.show()"
   ]
  },
  {
   "cell_type": "markdown",
   "id": "aa55e76f",
   "metadata": {
    "papermill": {
     "duration": 0.010023,
     "end_time": "2022-08-07T14:24:47.158917",
     "exception": false,
     "start_time": "2022-08-07T14:24:47.148894",
     "status": "completed"
    },
    "tags": []
   },
   "source": [
    "### Model Implementation"
   ]
  },
  {
   "cell_type": "code",
   "execution_count": 16,
   "id": "7b561690",
   "metadata": {
    "execution": {
     "iopub.execute_input": "2022-08-07T14:24:47.181794Z",
     "iopub.status.busy": "2022-08-07T14:24:47.181392Z",
     "iopub.status.idle": "2022-08-07T14:24:47.187945Z",
     "shell.execute_reply": "2022-08-07T14:24:47.187094Z"
    },
    "papermill": {
     "duration": 0.020287,
     "end_time": "2022-08-07T14:24:47.189971",
     "exception": false,
     "start_time": "2022-08-07T14:24:47.169684",
     "status": "completed"
    },
    "tags": []
   },
   "outputs": [],
   "source": [
    "# b, a - polyfit\n",
    "b, a = np.polyfit(x, Y, 1) # sgd"
   ]
  },
  {
   "cell_type": "code",
   "execution_count": 17,
   "id": "cbd8138e",
   "metadata": {
    "execution": {
     "iopub.execute_input": "2022-08-07T14:24:47.212623Z",
     "iopub.status.busy": "2022-08-07T14:24:47.212016Z",
     "iopub.status.idle": "2022-08-07T14:24:47.217292Z",
     "shell.execute_reply": "2022-08-07T14:24:47.216458Z"
    },
    "papermill": {
     "duration": 0.019005,
     "end_time": "2022-08-07T14:24:47.219285",
     "exception": false,
     "start_time": "2022-08-07T14:24:47.200280",
     "status": "completed"
    },
    "tags": []
   },
   "outputs": [
    {
     "data": {
      "text/plain": [
       "0.26342933948939934"
      ]
     },
     "execution_count": 17,
     "metadata": {},
     "output_type": "execute_result"
    }
   ],
   "source": [
    "# b : slope\n",
    "b"
   ]
  },
  {
   "cell_type": "code",
   "execution_count": 18,
   "id": "07d3078b",
   "metadata": {
    "execution": {
     "iopub.execute_input": "2022-08-07T14:24:47.242843Z",
     "iopub.status.busy": "2022-08-07T14:24:47.241718Z",
     "iopub.status.idle": "2022-08-07T14:24:47.249102Z",
     "shell.execute_reply": "2022-08-07T14:24:47.248059Z"
    },
    "papermill": {
     "duration": 0.021728,
     "end_time": "2022-08-07T14:24:47.251424",
     "exception": false,
     "start_time": "2022-08-07T14:24:47.229696",
     "status": "completed"
    },
    "tags": []
   },
   "outputs": [
    {
     "data": {
      "text/plain": [
       "325.57342104944274"
      ]
     },
     "execution_count": 18,
     "metadata": {},
     "output_type": "execute_result"
    }
   ],
   "source": [
    "# a : intercept\n",
    "a"
   ]
  },
  {
   "cell_type": "markdown",
   "id": "502e7a99",
   "metadata": {
    "papermill": {
     "duration": 0.010343,
     "end_time": "2022-08-07T14:24:47.272273",
     "exception": false,
     "start_time": "2022-08-07T14:24:47.261930",
     "status": "completed"
    },
    "tags": []
   },
   "source": [
    "### Broadcasting"
   ]
  },
  {
   "cell_type": "code",
   "execution_count": 19,
   "id": "88a8be80",
   "metadata": {
    "execution": {
     "iopub.execute_input": "2022-08-07T14:24:47.295885Z",
     "iopub.status.busy": "2022-08-07T14:24:47.295044Z",
     "iopub.status.idle": "2022-08-07T14:24:47.300248Z",
     "shell.execute_reply": "2022-08-07T14:24:47.299394Z"
    },
    "papermill": {
     "duration": 0.019706,
     "end_time": "2022-08-07T14:24:47.302528",
     "exception": false,
     "start_time": "2022-08-07T14:24:47.282822",
     "status": "completed"
    },
    "tags": []
   },
   "outputs": [],
   "source": [
    "# y_preds = bx + a\n",
    "y_preds = (b * x) + a"
   ]
  },
  {
   "cell_type": "markdown",
   "id": "3b8fcb17",
   "metadata": {
    "papermill": {
     "duration": 0.010415,
     "end_time": "2022-08-07T14:24:47.323488",
     "exception": false,
     "start_time": "2022-08-07T14:24:47.313073",
     "status": "completed"
    },
    "tags": []
   },
   "source": [
    "### Best fit line"
   ]
  },
  {
   "cell_type": "code",
   "execution_count": 20,
   "id": "67748c9e",
   "metadata": {
    "execution": {
     "iopub.execute_input": "2022-08-07T14:24:47.347226Z",
     "iopub.status.busy": "2022-08-07T14:24:47.346421Z",
     "iopub.status.idle": "2022-08-07T14:24:47.552329Z",
     "shell.execute_reply": "2022-08-07T14:24:47.551066Z"
    },
    "papermill": {
     "duration": 0.220787,
     "end_time": "2022-08-07T14:24:47.554951",
     "exception": false,
     "start_time": "2022-08-07T14:24:47.334164",
     "status": "completed"
    },
    "tags": []
   },
   "outputs": [
    {
     "data": {
      "image/png": "[encoded data removed]",
      "text/plain": [
       "<Figure size 720x432 with 1 Axes>"
      ]
     },
     "metadata": {
      "needs_background": "light"
     },
     "output_type": "display_data"
    }
   ],
   "source": [
    "# scatter and line\n",
    "plt.figure(figsize=(10, 6))\n",
    "plt.scatter(x, Y, color='blue')\n",
    "plt.plot(x, y_preds, color='red')\n",
    "plt.show()"
   ]
  },
  {
   "cell_type": "markdown",
   "id": "af586f52",
   "metadata": {
    "papermill": {
     "duration": 0.010915,
     "end_time": "2022-08-07T14:24:47.576902",
     "exception": false,
     "start_time": "2022-08-07T14:24:47.565987",
     "status": "completed"
    },
    "tags": []
   },
   "source": [
    "### Plotly plot for interactivity"
   ]
  },
  {
   "cell_type": "code",
   "execution_count": 21,
   "id": "aa6b167d",
   "metadata": {
    "execution": {
     "iopub.execute_input": "2022-08-07T14:24:47.601180Z",
     "iopub.status.busy": "2022-08-07T14:24:47.600730Z",
     "iopub.status.idle": "2022-08-07T14:24:47.613742Z",
     "shell.execute_reply": "2022-08-07T14:24:47.612793Z"
    },
    "papermill": {
     "duration": 0.028401,
     "end_time": "2022-08-07T14:24:47.616432",
     "exception": false,
     "start_time": "2022-08-07T14:24:47.588031",
     "status": "completed"
    },
    "tags": []
   },
   "outputs": [],
   "source": [
    "import plotly.graph_objects as go"
   ]
  },
  {
   "cell_type": "code",
   "execution_count": 22,
   "id": "9fd3b702",
   "metadata": {
    "execution": {
     "iopub.execute_input": "2022-08-07T14:24:47.642026Z",
     "iopub.status.busy": "2022-08-07T14:24:47.640993Z",
     "iopub.status.idle": "2022-08-07T14:24:47.778455Z",
     "shell.execute_reply": "2022-08-07T14:24:47.777230Z"
    },
    "papermill": {
     "duration": 0.153545,
     "end_time": "2022-08-07T14:24:47.781271",
     "exception": false,
     "start_time": "2022-08-07T14:24:47.627726",
     "status": "completed"
    },
    "tags": []
   },
   "outputs": [
    {
     "data": {
      "text/html": [
       "        <script type=\"text/javascript\">\n",
       "        window.PlotlyConfig = {MathJaxConfig: 'local'};\n",
       "        if (window.MathJax && window.MathJax.Hub && window.MathJax.Hub.Config) {window.MathJax.Hub.Config({SVG: {font: \"STIX-Web\"}});}\n",
       "        if (typeof require !== 'undefined') {\n",
       "        require.undef(\"plotly\");\n",
       "        requirejs.config({\n",
       "            paths: {\n",
       "                'plotly': ['https://cdn.plot.ly/plotly-2.12.1.min']\n",
       "            }\n",
       "        });\n",
       "        require(['plotly'], function(Plotly) {\n",
       "            window._Plotly = Plotly;\n",
       "        });\n",
       "        }\n",
       "        </script>\n",
       "        "
      ]
     },
     "metadata": {},
     "output_type": "display_data"
    },
    {
     "data": {
      "text/html": [
       "<div>                            <div id=\"add2f0c6-c26a-4b8c-b09d-df9a2e4fadd8\" class=\"plotly-graph-div\" style=\"height:500px; width:800px;\"></div>            <script type=\"text/javascript\">                require([\"plotly\"], function(Plotly) {                    window.PLOTLYENV=window.PLOTLYENV || {};                                    if (document.getElementById(\"add2f0c6-c26a-4b8c-b09d-df9a2e4fadd8\")) {                    Plotly.newPlot(                        \"add2f0c6-c26a-4b8c-b09d-df9a2e4fadd8\",                        [{\"mode\":\"markers\",\"name\":\"Data Values\",\"x\":[4512,3738,4261,3777,4177,3585,3785,3559,3613,3982,3443,3993,3640,4208,3832,3876,3497,3466,3095,4424,3878,4046,3804,3710,4747,4423,4036,4022,3454,4175,3787,3796,4103,4161,4158,3814,3527,3748,3334,3492,3962,3505,4315,3804,3863,4034,4308,3165,3641,3644,3891,3793,4270,4063,4012,3458,3890,4166,3935,3669,3866,3393,4442,4253,3727,3329,3415,3372,4430,4381,4008,3858,4121,4057,3824,3394,3558,3362,3930,3835,3830,3856,3249,3577,3933,3850,3309,3406,3506,3907,4160,3318,3662,3899,3700,3779,3473,3490,3654,3478,3495,3834,3876,3661,3618,3648,4032,3399,3916,4430,3695,3524,3571,3594,3383,3499,3589,3900,4114,3937,3399,4200,4488,3614,4051,3782,3391,3124,4053,3582,3666,3532,4046,3667,2857,3436,3791,3302,3104,3171,3572,3530,3175,3438,3903,3899,3401,3267,3451,3090,3413,3323,3680,3439,3853,3156,3279,3707,4006,3269,3071,3779,3548,3292,3497,3082,3248,3358,3803,3566,3145,3503,3571,3724,3615,3203,3609,3561,3979,3533,3689,3158,4005,3181,3479,3642,3632,3069,3394,3703,3165,3354,3000,3687,3556,2773,3058,3344,3493,3297,3360,3228,3277,3851,3067,3692,3402,3995,3318,2720,2937,3580,2939,2989,3586,3156,3246,3170,3268,3389,3381,2864,3740,3479,3647,3716,3284,4204,3735,3218,3685,3704,3214,3394,3233,3352,3391],\"y\":[1530,1297,1335,1282,1590,1300,1400,1255,1355,1375,1340,1380,1355,1522,1208,1405,1358,1292,1340,1400,1357,1287,1275,1270,1635,1505,1490,1485,1310,1420,1318,1432,1364,1405,1432,1207,1375,1350,1236,1250,1350,1320,1525,1570,1340,1422,1506,1215,1311,1300,1224,1350,1335,1390,1400,1225,1310,1560,1330,1222,1415,1175,1330,1485,1470,1135,1310,1154,1510,1415,1468,1390,1380,1432,1240,1195,1225,1188,1252,1315,1245,1430,1279,1245,1309,1412,1120,1220,1280,1440,1370,1192,1230,1346,1290,1165,1240,1132,1242,1270,1218,1430,1588,1320,1290,1260,1425,1226,1360,1620,1310,1250,1295,1290,1290,1275,1250,1270,1362,1300,1173,1256,1440,1180,1306,1350,1125,1165,1312,1300,1270,1335,1450,1310,1027,1235,1260,1165,1080,1127,1270,1252,1200,1290,1334,1380,1140,1243,1340,1168,1322,1249,1321,1192,1373,1170,1265,1235,1302,1241,1078,1520,1460,1075,1280,1180,1250,1190,1374,1306,1202,1240,1316,1280,1350,1180,1210,1127,1324,1210,1290,1100,1280,1175,1160,1205,1163,1022,1243,1350,1237,1204,1090,1355,1250,1076,1120,1220,1240,1220,1095,1235,1105,1405,1150,1305,1220,1296,1175,955,1070,1320,1060,1130,1250,1225,1180,1178,1142,1130,1185,1012,1280,1103,1408,1300,1246,1380,1350,1060,1350,1220,1110,1215,1104,1170,1120],\"type\":\"scatter\"},{\"mode\":\"lines\",\"name\":\"Best Fit Line\",\"x\":[4512,3738,4261,3777,4177,3585,3785,3559,3613,3982,3443,3993,3640,4208,3832,3876,3497,3466,3095,4424,3878,4046,3804,3710,4747,4423,4036,4022,3454,4175,3787,3796,4103,4161,4158,3814,3527,3748,3334,3492,3962,3505,4315,3804,3863,4034,4308,3165,3641,3644,3891,3793,4270,4063,4012,3458,3890,4166,3935,3669,3866,3393,4442,4253,3727,3329,3415,3372,4430,4381,4008,3858,4121,4057,3824,3394,3558,3362,3930,3835,3830,3856,3249,3577,3933,3850,3309,3406,3506,3907,4160,3318,3662,3899,3700,3779,3473,3490,3654,3478,3495,3834,3876,3661,3618,3648,4032,3399,3916,4430,3695,3524,3571,3594,3383,3499,3589,3900,4114,3937,3399,4200,4488,3614,4051,3782,3391,3124,4053,3582,3666,3532,4046,3667,2857,3436,3791,3302,3104,3171,3572,3530,3175,3438,3903,3899,3401,3267,3451,3090,3413,3323,3680,3439,3853,3156,3279,3707,4006,3269,3071,3779,3548,3292,3497,3082,3248,3358,3803,3566,3145,3503,3571,3724,3615,3203,3609,3561,3979,3533,3689,3158,4005,3181,3479,3642,3632,3069,3394,3703,3165,3354,3000,3687,3556,2773,3058,3344,3493,3297,3360,3228,3277,3851,3067,3692,3402,3995,3318,2720,2937,3580,2939,2989,3586,3156,3246,3170,3268,3389,3381,2864,3740,3479,3647,3716,3284,4204,3735,3218,3685,3704,3214,3394,3233,3352,3391],\"y\":[1514.1666008256125,1310.2722920608176,1448.0458366137732,1320.546036300904,1425.9177720966636,1269.9676031189395,1322.6534710168191,1263.118440292215,1277.3436246246426,1374.549050896231,1232.5606369114446,1377.4467736306142,1284.4562167908564,1434.0840816208351,1335.034649972821,1346.6255409103546,1246.7858212438723,1238.6195117197008,1140.8872267691338,1490.9848189505453,1347.1523995893333,1391.4085286235525,1327.6586284671178,1302.8962705551144,1576.0724956056213,1490.7213896110559,1388.7742352286584,1385.0862244758068,1235.458359645828,1425.390913417685,1323.180329695798,1325.5511937512026,1406.424000974448,1421.7029026648333,1420.9126146463652,1330.2929218620118,1254.6887014285542,1312.9065854557114,1203.8468389071002,1245.4686745464253,1369.2804641064429,1248.8932559597874,1462.271020946201,1327.6586284671178,1343.2009594969925,1388.2473765496795,1460.427015569775,1159.3272805333916,1284.7196461303458,1285.509934148814,1350.5769810026954,1324.7609057327345,1450.4167006691778,1395.8868273948722,1382.4519310809128,1236.5120770037856,1350.3135516632062,1423.0200493622804,1362.1678719402291,1292.095667636049,1343.9912475154606,1219.3891699369747,1495.7265470613545,1445.938401897858,1307.374569326434,1202.5296922096531,1225.1846154057414,1213.8571538076974,1492.5653949874818,1479.657357352501,1381.3982137229552,1341.8838127995455,1411.1657290852575,1394.3062513579357,1332.9272152569058,1219.6525992764641,1262.8550109527255,1211.2228604128034,1360.8507252427821,1335.8249379912893,1334.5077912938423,1341.3569541205666,1181.4553450505011,1267.860168403024,1361.6410132612502,1339.77637808363,1197.261105419865,1222.8137513503368,1249.156685299277,1354.791850434526,1421.439473325344,1199.6319694752697,1290.2516622596231,1352.6844157186108,1300.2619771602203,1321.072894979883,1240.4635170961267,1244.9418158674464,1288.144227543708,1241.7806637935737,1246.2589625648934,1335.5615086517998,1346.6255409103546,1289.9882329201337,1278.6607713220897,1286.5636515067715,1387.7205178707009,1220.9697459739111,1357.1627144899305,1492.5653949874818,1298.9448304627733,1253.898413410086,1266.2795923660879,1272.338467174344,1216.7548765420806,1247.312679922851,1271.021320476897,1352.9478450581,1409.3217237088315,1362.6947306192078,1220.9697459739111,1431.97664690492,1507.8442966778669,1277.6070539641319,1392.7256753209995,1321.863182998351,1218.862311257996,1148.5266776143262,1393.2525339999781,1269.177315100471,1291.3053796175807,1256.0058481260012,1391.4085286235525,1291.5688089570701,1078.1910439706567,1230.716631535019,1324.2340470537556,1195.4171000434394,1143.2580908245384,1160.907856570328,1266.543021705577,1255.4789894470225,1161.9615739282856,1231.2434902139976,1353.7381330765684,1352.6844157186108,1221.4966046528898,1186.1970731613103,1234.66807162736,1139.5700800716868,1224.6577567267627,1200.9491161727167,1294.9933903704323,1231.506919553487,1340.5666661020985,1156.956416477987,1189.3582252351832,1302.105982536646,1380.8713550439763,1186.7239318402892,1134.5649226213882,1321.072894979883,1260.2207175578317,1192.7828066485454,1246.7858212438723,1137.4626453557714,1181.1919157110117,1210.1691430548458,1327.3951991276285,1264.9624456686408,1154.0586937436037,1248.3663972808085,1266.2795923660879,1306.584281307966,1277.8704833036213,1169.3375954339888,1276.2899072666848,1263.6452989711938,1373.7587628777626,1256.2692774654906,1297.3642544258369,1157.4832751569659,1380.6079257044871,1163.542149965222,1242.0440931330631,1284.983075469835,1282.3487820749413,1134.0380639424093,1219.6525992764641,1301.0522651786885,1159.3272805333916,1209.1154256968882,1115.8614395176407,1296.8373957468582,1262.3281522737468,1056.062979453547,1131.140341208026,1206.4811323019942,1245.7321038859147,1194.0999533459924,1210.6960017338245,1175.9233289212239,1188.8313665562043,1340.0398074231196,1133.5112052634306,1298.1545424443052,1221.7600339923792,1377.973632309593,1199.6319694752697,1042.101224460609,1099.2653911298087,1268.6504564214924,1099.7922498087873,1112.9637167832573,1270.2310324584287,1156.956416477987,1180.665057032033,1160.6444272308386,1186.4605025007997,1218.335452579017,1216.228017863102,1080.0350493470823,1310.7991507397962,1242.0440931330631,1286.300222167282,1304.4768465920506,1190.6753719326302,1433.0303642628776,1309.4820040423492,1173.2890355263298,1296.3105370678793,1301.315694518178,1172.2353181683723,1219.6525992764641,1177.2404756186709,1208.5885670179093,1218.862311257996],\"type\":\"scatter\"}],                        {\"height\":500,\"margin\":{\"b\":10,\"l\":0,\"r\":0,\"t\":50},\"title\":{\"text\":\"Linear Regression Model (Brain weight & Head Size)\"},\"width\":800,\"template\":{\"data\":{\"histogram2dcontour\":[{\"type\":\"histogram2dcontour\",\"colorbar\":{\"outlinewidth\":0,\"ticks\":\"\"},\"colorscale\":[[0.0,\"#0d0887\"],[0.1111111111111111,\"#46039f\"],[0.2222222222222222,\"#7201a8\"],[0.3333333333333333,\"#9c179e\"],[0.4444444444444444,\"#bd3786\"],[0.5555555555555556,\"#d8576b\"],[0.6666666666666666,\"#ed7953\"],[0.7777777777777778,\"#fb9f3a\"],[0.8888888888888888,\"#fdca26\"],[1.0,\"#f0f921\"]]}],\"choropleth\":[{\"type\":\"choropleth\",\"colorbar\":{\"outlinewidth\":0,\"ticks\":\"\"}}],\"histogram2d\":[{\"type\":\"histogram2d\",\"colorbar\":{\"outlinewidth\":0,\"ticks\":\"\"},\"colorscale\":[[0.0,\"#0d0887\"],[0.1111111111111111,\"#46039f\"],[0.2222222222222222,\"#7201a8\"],[0.3333333333333333,\"#9c179e\"],[0.4444444444444444,\"#bd3786\"],[0.5555555555555556,\"#d8576b\"],[0.6666666666666666,\"#ed7953\"],[0.7777777777777778,\"#fb9f3a\"],[0.8888888888888888,\"#fdca26\"],[1.0,\"#f0f921\"]]}],\"heatmap\":[{\"type\":\"heatmap\",\"colorbar\":{\"outlinewidth\":0,\"ticks\":\"\"},\"colorscale\":[[0.0,\"#0d0887\"],[0.1111111111111111,\"#46039f\"],[0.2222222222222222,\"#7201a8\"],[0.3333333333333333,\"#9c179e\"],[0.4444444444444444,\"#bd3786\"],[0.5555555555555556,\"#d8576b\"],[0.6666666666666666,\"#ed7953\"],[0.7777777777777778,\"#fb9f3a\"],[0.8888888888888888,\"#fdca26\"],[1.0,\"#f0f921\"]]}],\"heatmapgl\":[{\"type\":\"heatmapgl\",\"colorbar\":{\"outlinewidth\":0,\"ticks\":\"\"},\"colorscale\":[[0.0,\"#0d0887\"],[0.1111111111111111,\"#46039f\"],[0.2222222222222222,\"#7201a8\"],[0.3333333333333333,\"#9c179e\"],[0.4444444444444444,\"#bd3786\"],[0.5555555555555556,\"#d8576b\"],[0.6666666666666666,\"#ed7953\"],[0.7777777777777778,\"#fb9f3a\"],[0.8888888888888888,\"#fdca26\"],[1.0,\"#f0f921\"]]}],\"contourcarpet\":[{\"type\":\"contourcarpet\",\"colorbar\":{\"outlinewidth\":0,\"ticks\":\"\"}}],\"contour\":[{\"type\":\"contour\",\"colorbar\":{\"outlinewidth\":0,\"ticks\":\"\"},\"colorscale\":[[0.0,\"#0d0887\"],[0.1111111111111111,\"#46039f\"],[0.2222222222222222,\"#7201a8\"],[0.3333333333333333,\"#9c179e\"],[0.4444444444444444,\"#bd3786\"],[0.5555555555555556,\"#d8576b\"],[0.6666666666666666,\"#ed7953\"],[0.7777777777777778,\"#fb9f3a\"],[0.8888888888888888,\"#fdca26\"],[1.0,\"#f0f921\"]]}],\"surface\":[{\"type\":\"surface\",\"colorbar\":{\"outlinewidth\":0,\"ticks\":\"\"},\"colorscale\":[[0.0,\"#0d0887\"],[0.1111111111111111,\"#46039f\"],[0.2222222222222222,\"#7201a8\"],[0.3333333333333333,\"#9c179e\"],[0.4444444444444444,\"#bd3786\"],[0.5555555555555556,\"#d8576b\"],[0.6666666666666666,\"#ed7953\"],[0.7777777777777778,\"#fb9f3a\"],[0.8888888888888888,\"#fdca26\"],[1.0,\"#f0f921\"]]}],\"mesh3d\":[{\"type\":\"mesh3d\",\"colorbar\":{\"outlinewidth\":0,\"ticks\":\"\"}}],\"scatter\":[{\"fillpattern\":{\"fillmode\":\"overlay\",\"size\":10,\"solidity\":0.2},\"type\":\"scatter\"}],\"parcoords\":[{\"type\":\"parcoords\",\"line\":{\"colorbar\":{\"outlinewidth\":0,\"ticks\":\"\"}}}],\"scatterpolargl\":[{\"type\":\"scatterpolargl\",\"marker\":{\"colorbar\":{\"outlinewidth\":0,\"ticks\":\"\"}}}],\"bar\":[{\"error_x\":{\"color\":\"#2a3f5f\"},\"error_y\":{\"color\":\"#2a3f5f\"},\"marker\":{\"line\":{\"color\":\"#E5ECF6\",\"width\":0.5},\"pattern\":{\"fillmode\":\"overlay\",\"size\":10,\"solidity\":0.2}},\"type\":\"bar\"}],\"scattergeo\":[{\"type\":\"scattergeo\",\"marker\":{\"colorbar\":{\"outlinewidth\":0,\"ticks\":\"\"}}}],\"scatterpolar\":[{\"type\":\"scatterpolar\",\"marker\":{\"colorbar\":{\"outlinewidth\":0,\"ticks\":\"\"}}}],\"histogram\":[{\"marker\":{\"pattern\":{\"fillmode\":\"overlay\",\"size\":10,\"solidity\":0.2}},\"type\":\"histogram\"}],\"scattergl\":[{\"type\":\"scattergl\",\"marker\":{\"colorbar\":{\"outlinewidth\":0,\"ticks\":\"\"}}}],\"scatter3d\":[{\"type\":\"scatter3d\",\"line\":{\"colorbar\":{\"outlinewidth\":0,\"ticks\":\"\"}},\"marker\":{\"colorbar\":{\"outlinewidth\":0,\"ticks\":\"\"}}}],\"scattermapbox\":[{\"type\":\"scattermapbox\",\"marker\":{\"colorbar\":{\"outlinewidth\":0,\"ticks\":\"\"}}}],\"scatterternary\":[{\"type\":\"scatterternary\",\"marker\":{\"colorbar\":{\"outlinewidth\":0,\"ticks\":\"\"}}}],\"scattercarpet\":[{\"type\":\"scattercarpet\",\"marker\":{\"colorbar\":{\"outlinewidth\":0,\"ticks\":\"\"}}}],\"carpet\":[{\"aaxis\":{\"endlinecolor\":\"#2a3f5f\",\"gridcolor\":\"white\",\"linecolor\":\"white\",\"minorgridcolor\":\"white\",\"startlinecolor\":\"#2a3f5f\"},\"baxis\":{\"endlinecolor\":\"#2a3f5f\",\"gridcolor\":\"white\",\"linecolor\":\"white\",\"minorgridcolor\":\"white\",\"startlinecolor\":\"#2a3f5f\"},\"type\":\"carpet\"}],\"table\":[{\"cells\":{\"fill\":{\"color\":\"#EBF0F8\"},\"line\":{\"color\":\"white\"}},\"header\":{\"fill\":{\"color\":\"#C8D4E3\"},\"line\":{\"color\":\"white\"}},\"type\":\"table\"}],\"barpolar\":[{\"marker\":{\"line\":{\"color\":\"#E5ECF6\",\"width\":0.5},\"pattern\":{\"fillmode\":\"overlay\",\"size\":10,\"solidity\":0.2}},\"type\":\"barpolar\"}],\"pie\":[{\"automargin\":true,\"type\":\"pie\"}]},\"layout\":{\"autotypenumbers\":\"strict\",\"colorway\":[\"#636efa\",\"#EF553B\",\"#00cc96\",\"#ab63fa\",\"#FFA15A\",\"#19d3f3\",\"#FF6692\",\"#B6E880\",\"#FF97FF\",\"#FECB52\"],\"font\":{\"color\":\"#2a3f5f\"},\"hovermode\":\"closest\",\"hoverlabel\":{\"align\":\"left\"},\"paper_bgcolor\":\"white\",\"plot_bgcolor\":\"#E5ECF6\",\"polar\":{\"bgcolor\":\"#E5ECF6\",\"angularaxis\":{\"gridcolor\":\"white\",\"linecolor\":\"white\",\"ticks\":\"\"},\"radialaxis\":{\"gridcolor\":\"white\",\"linecolor\":\"white\",\"ticks\":\"\"}},\"ternary\":{\"bgcolor\":\"#E5ECF6\",\"aaxis\":{\"gridcolor\":\"white\",\"linecolor\":\"white\",\"ticks\":\"\"},\"baxis\":{\"gridcolor\":\"white\",\"linecolor\":\"white\",\"ticks\":\"\"},\"caxis\":{\"gridcolor\":\"white\",\"linecolor\":\"white\",\"ticks\":\"\"}},\"coloraxis\":{\"colorbar\":{\"outlinewidth\":0,\"ticks\":\"\"}},\"colorscale\":{\"sequential\":[[0.0,\"#0d0887\"],[0.1111111111111111,\"#46039f\"],[0.2222222222222222,\"#7201a8\"],[0.3333333333333333,\"#9c179e\"],[0.4444444444444444,\"#bd3786\"],[0.5555555555555556,\"#d8576b\"],[0.6666666666666666,\"#ed7953\"],[0.7777777777777778,\"#fb9f3a\"],[0.8888888888888888,\"#fdca26\"],[1.0,\"#f0f921\"]],\"sequentialminus\":[[0.0,\"#0d0887\"],[0.1111111111111111,\"#46039f\"],[0.2222222222222222,\"#7201a8\"],[0.3333333333333333,\"#9c179e\"],[0.4444444444444444,\"#bd3786\"],[0.5555555555555556,\"#d8576b\"],[0.6666666666666666,\"#ed7953\"],[0.7777777777777778,\"#fb9f3a\"],[0.8888888888888888,\"#fdca26\"],[1.0,\"#f0f921\"]],\"diverging\":[[0,\"#8e0152\"],[0.1,\"#c51b7d\"],[0.2,\"#de77ae\"],[0.3,\"#f1b6da\"],[0.4,\"#fde0ef\"],[0.5,\"#f7f7f7\"],[0.6,\"#e6f5d0\"],[0.7,\"#b8e186\"],[0.8,\"#7fbc41\"],[0.9,\"#4d9221\"],[1,\"#276419\"]]},\"xaxis\":{\"gridcolor\":\"white\",\"linecolor\":\"white\",\"ticks\":\"\",\"title\":{\"standoff\":15},\"zerolinecolor\":\"white\",\"automargin\":true,\"zerolinewidth\":2},\"yaxis\":{\"gridcolor\":\"white\",\"linecolor\":\"white\",\"ticks\":\"\",\"title\":{\"standoff\":15},\"zerolinecolor\":\"white\",\"automargin\":true,\"zerolinewidth\":2},\"scene\":{\"xaxis\":{\"backgroundcolor\":\"#E5ECF6\",\"gridcolor\":\"white\",\"linecolor\":\"white\",\"showbackground\":true,\"ticks\":\"\",\"zerolinecolor\":\"white\",\"gridwidth\":2},\"yaxis\":{\"backgroundcolor\":\"#E5ECF6\",\"gridcolor\":\"white\",\"linecolor\":\"white\",\"showbackground\":true,\"ticks\":\"\",\"zerolinecolor\":\"white\",\"gridwidth\":2},\"zaxis\":{\"backgroundcolor\":\"#E5ECF6\",\"gridcolor\":\"white\",\"linecolor\":\"white\",\"showbackground\":true,\"ticks\":\"\",\"zerolinecolor\":\"white\",\"gridwidth\":2}},\"shapedefaults\":{\"line\":{\"color\":\"#2a3f5f\"}},\"annotationdefaults\":{\"arrowcolor\":\"#2a3f5f\",\"arrowhead\":0,\"arrowwidth\":1},\"geo\":{\"bgcolor\":\"white\",\"landcolor\":\"#E5ECF6\",\"subunitcolor\":\"white\",\"showland\":true,\"showlakes\":true,\"lakecolor\":\"white\"},\"title\":{\"x\":0.05},\"mapbox\":{\"style\":\"light\"}}}},                        {\"responsive\": true}                    ).then(function(){\n",
       "                            \n",
       "var gd = document.getElementById('add2f0c6-c26a-4b8c-b09d-df9a2e4fadd8');\n",
       "var x = new MutationObserver(function (mutations, observer) {{\n",
       "        var display = window.getComputedStyle(gd).display;\n",
       "        if (!display || display === 'none') {{\n",
       "            console.log([gd, 'removed!']);\n",
       "            Plotly.purge(gd);\n",
       "            observer.disconnect();\n",
       "        }}\n",
       "}});\n",
       "\n",
       "// Listen for the removal of the full notebook cells\n",
       "var notebookContainer = gd.closest('#notebook-container');\n",
       "if (notebookContainer) {{\n",
       "    x.observe(notebookContainer, {childList: true});\n",
       "}}\n",
       "\n",
       "// Listen for the clearing of the current output cell\n",
       "var outputEl = gd.closest('.output');\n",
       "if (outputEl) {{\n",
       "    x.observe(outputEl, {childList: true});\n",
       "}}\n",
       "\n",
       "                        })                };                });            </script>        </div>"
      ]
     },
     "metadata": {},
     "output_type": "display_data"
    }
   ],
   "source": [
    "trace1 = go.Scatter(\n",
    "    x=x,\n",
    "    y=Y,\n",
    "    mode='markers',\n",
    "    name='Data Values'\n",
    ")\n",
    "\n",
    "trace2 = go.Scatter(\n",
    "    x=x,\n",
    "    y=y_preds,\n",
    "    mode='lines',\n",
    "    name='Best Fit Line'\n",
    ")\n",
    "\n",
    "layout = go.Layout(\n",
    "    title='Linear Regression Model (Brain weight & Head Size)',\n",
    "    height=500,\n",
    "    width=800,\n",
    "    margin=dict(l=0, b=10, t=50, r=0)\n",
    ")\n",
    "\n",
    "fig = go.Figure(data=[trace1, trace2], layout=layout)\n",
    "fig.show()"
   ]
  },
  {
   "cell_type": "markdown",
   "id": "d2756ccf",
   "metadata": {
    "papermill": {
     "duration": 0.011554,
     "end_time": "2022-08-07T14:24:47.804820",
     "exception": false,
     "start_time": "2022-08-07T14:24:47.793266",
     "status": "completed"
    },
    "tags": []
   },
   "source": [
    "### Model development"
   ]
  },
  {
   "cell_type": "code",
   "execution_count": 23,
   "id": "e35893ff",
   "metadata": {
    "execution": {
     "iopub.execute_input": "2022-08-07T14:24:47.829894Z",
     "iopub.status.busy": "2022-08-07T14:24:47.829391Z",
     "iopub.status.idle": "2022-08-07T14:24:47.835469Z",
     "shell.execute_reply": "2022-08-07T14:24:47.834356Z"
    },
    "papermill": {
     "duration": 0.021369,
     "end_time": "2022-08-07T14:24:47.837865",
     "exception": false,
     "start_time": "2022-08-07T14:24:47.816496",
     "status": "completed"
    },
    "tags": []
   },
   "outputs": [],
   "source": [
    "def build_model(X, y):\n",
    "    x_dim = 1 if (len(X.shape) == 1) else X.shape[1]\n",
    "    b, a = np.polyfit(x=X, y=y, deg=x_dim)\n",
    "    return b, a"
   ]
  },
  {
   "cell_type": "code",
   "execution_count": 24,
   "id": "cd2d8811",
   "metadata": {
    "execution": {
     "iopub.execute_input": "2022-08-07T14:24:47.862112Z",
     "iopub.status.busy": "2022-08-07T14:24:47.861222Z",
     "iopub.status.idle": "2022-08-07T14:24:47.867270Z",
     "shell.execute_reply": "2022-08-07T14:24:47.866326Z"
    },
    "papermill": {
     "duration": 0.020854,
     "end_time": "2022-08-07T14:24:47.869643",
     "exception": false,
     "start_time": "2022-08-07T14:24:47.848789",
     "status": "completed"
    },
    "tags": []
   },
   "outputs": [],
   "source": [
    "b, a = build_model(X=x, y=Y)"
   ]
  },
  {
   "cell_type": "markdown",
   "id": "da451e2f",
   "metadata": {
    "papermill": {
     "duration": 0.01157,
     "end_time": "2022-08-07T14:24:47.893053",
     "exception": false,
     "start_time": "2022-08-07T14:24:47.881483",
     "status": "completed"
    },
    "tags": []
   },
   "source": [
    "### Prediction"
   ]
  },
  {
   "cell_type": "code",
   "execution_count": 25,
   "id": "aa19f876",
   "metadata": {
    "execution": {
     "iopub.execute_input": "2022-08-07T14:24:47.918515Z",
     "iopub.status.busy": "2022-08-07T14:24:47.918118Z",
     "iopub.status.idle": "2022-08-07T14:24:47.923203Z",
     "shell.execute_reply": "2022-08-07T14:24:47.922050Z"
    },
    "papermill": {
     "duration": 0.020476,
     "end_time": "2022-08-07T14:24:47.925301",
     "exception": false,
     "start_time": "2022-08-07T14:24:47.904825",
     "status": "completed"
    },
    "tags": []
   },
   "outputs": [],
   "source": [
    "def predict(X_new, b, a):\n",
    "    X_new = np.array(X_new)\n",
    "    y_preds = (b * X_new) + a\n",
    "    return list(y_preds)"
   ]
  },
  {
   "cell_type": "code",
   "execution_count": 26,
   "id": "9ab6a0fb",
   "metadata": {
    "execution": {
     "iopub.execute_input": "2022-08-07T14:24:47.949842Z",
     "iopub.status.busy": "2022-08-07T14:24:47.948633Z",
     "iopub.status.idle": "2022-08-07T14:24:47.957720Z",
     "shell.execute_reply": "2022-08-07T14:24:47.956570Z"
    },
    "papermill": {
     "duration": 0.023532,
     "end_time": "2022-08-07T14:24:47.959902",
     "exception": false,
     "start_time": "2022-08-07T14:24:47.936370",
     "status": "completed"
    },
    "tags": []
   },
   "outputs": [
    {
     "data": {
      "text/plain": [
       "[1777.5959403150118,\n",
       " 1231.2434902139976,\n",
       " 1421.7029026648333,\n",
       " 1373.231904198784,\n",
       " 1557.6324418413633,\n",
       " 1796.826282097738,\n",
       " 1322.6534710168191,\n",
       " 1315.8043081900948,\n",
       " 1111.1197114068316,\n",
       " 1235.1949303063386,\n",
       " 1353.7381330765684,\n",
       " 1152.7415470461567,\n",
       " 1455.1584287799872,\n",
       " 1598.4639894622203,\n",
       " 1322.9169003563086,\n",
       " 1272.6018965138333]"
      ]
     },
     "execution_count": 26,
     "metadata": {},
     "output_type": "execute_result"
    }
   ],
   "source": [
    "#Predicting the weight of the brain based on the size of the head\n",
    "predict(X_new=[5512,3438,4161,3977,4677,5585,3785,3759,2982,3453,3903,3140,4288,4832,3786,3595], b=b, a=a)"
   ]
  },
  {
   "cell_type": "markdown",
   "id": "4d11e86d",
   "metadata": {
    "papermill": {
     "duration": 0.012309,
     "end_time": "2022-08-07T14:24:47.984111",
     "exception": false,
     "start_time": "2022-08-07T14:24:47.971802",
     "status": "completed"
    },
    "tags": []
   },
   "source": [
    "The End"
   ]
  }
 ],
 "metadata": {
  "kernelspec": {
   "display_name": "Python 3",
   "language": "python",
   "name": "python3"
  },
  "language_info": {
   "codemirror_mode": {
    "name": "ipython",
    "version": 3
   },
   "file_extension": ".py",
   "mimetype": "text/x-python",
   "name": "python",
   "nbconvert_exporter": "python",
   "pygments_lexer": "ipython3",
   "version": "3.7.12"
  },
  "papermill": {
   "default_parameters": {},
   "duration": 13.958987,
   "end_time": "2022-08-07T14:24:48.819751",
   "environment_variables": {},
   "exception": null,
   "input_path": "__notebook__.ipynb",
   "output_path": "__notebook__.ipynb",
   "parameters": {},
   "start_time": "2022-08-07T14:24:34.860764",
   "version": "2.3.4"
  }
 },
 "nbformat": 4,
 "nbformat_minor": 5
}
